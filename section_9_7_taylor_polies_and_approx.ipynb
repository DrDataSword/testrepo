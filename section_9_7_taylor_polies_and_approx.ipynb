{
 "cells": [
  {
   "cell_type": "markdown",
   "metadata": {
    "slideshow": {
     "slide_type": "slide"
    }
   },
   "source": [
    "# Chapter 9: Infinite Series"
   ]
  },
  {
   "cell_type": "markdown",
   "metadata": {
    "slideshow": {
     "slide_type": "slide"
    }
   },
   "source": [
    "### Section 9.7: Taylor Polynomials and Approximations\n",
    "\n",
    "### Section Objectives:\n",
    "##### Objective 1: Find polynomial approximations of elementary functions and compare them with the elementary functions\n",
    "##### Objective 2: Find Taylor and Maclaurin polynomial approximations of elementary functions\n",
    "##### Objective 3: Use the remainder of a Taylor polynomial"
   ]
  },
  {
   "cell_type": "code",
   "execution_count": 1,
   "metadata": {
    "slideshow": {
     "slide_type": "skip"
    }
   },
   "outputs": [],
   "source": [
    "import warnings\n",
    "\n",
    "warnings.filterwarnings('ignore')\n",
    "\n",
    "import numpy as np\n",
    "import sympy as sym\n",
    "from sympy import lambdify\n",
    "\n",
    "import matplotlib.pyplot as plt\n",
    "%matplotlib inline\n",
    "\n",
    "plt.style.use('fivethirtyeight')"
   ]
  },
  {
   "cell_type": "markdown",
   "metadata": {
    "slideshow": {
     "slide_type": "slide"
    }
   },
   "source": [
    "##### Objective 1: Find polynomial approximations of elementary functions and compare them with the elementary functions"
   ]
  },
  {
   "cell_type": "markdown",
   "metadata": {
    "slideshow": {
     "slide_type": "fragment"
    }
   },
   "source": [
    "##### Motivating Example\n",
    "\n",
    "Consider the function $f(x) = e^x$\n",
    "\n",
    "**(a)** Find the linear approximation of $f(x)$ at the point $(0,1)$\n",
    "\n",
    "**(b)** Find the quadratic approximation of $f(x)$ at the point $(0, 1)$\n",
    "\n",
    "**(c)** Find the cubic approximation of $f(x)$ at the point $(0, 1)$"
   ]
  },
  {
   "cell_type": "markdown",
   "metadata": {
    "slideshow": {
     "slide_type": "fragment"
    }
   },
   "source": [
    "##### Solution:\n",
    "\n",
    "**(a)** Find the linear appriximation of $f(x) = e^x$ at the point $(0,1)$\n",
    "\n",
    "* Finding the linear approximation is the same as finding the equation of the tangent line"
   ]
  },
  {
   "cell_type": "markdown",
   "metadata": {
    "slideshow": {
     "slide_type": "fragment"
    }
   },
   "source": [
    "* If we let $P(x) = ax + b$ then we require two conditions:\n",
    "    * $P(0) = f(0)$ and $P'(0) = f'(0)$"
   ]
  },
  {
   "cell_type": "markdown",
   "metadata": {
    "slideshow": {
     "slide_type": "fragment"
    }
   },
   "source": [
    "* Employing the condition $P(0) = f(0)$ leads to\n",
    "\n",
    "\\begin{align}\n",
    "    P(0) & = b \\\\\n",
    "    f(0) & = e^0 = 1 \\\\\n",
    "    P(0) = f(0) & \\Rightarrow b = 1\n",
    "\\end{align}"
   ]
  },
  {
   "cell_type": "markdown",
   "metadata": {
    "slideshow": {
     "slide_type": "fragment"
    }
   },
   "source": [
    "* Employing $P'(0) = f'(0)$ leads to\n",
    "\n",
    "\\begin{align}\n",
    "    P'(x) = a & \\Rightarrow P'(0) = a \\\\\n",
    "    f'(x) = e^x & \\Rightarrow f'(0) = e^0 = 1 \\\\\n",
    "    P'(0) = f'(0) & \\Rightarrow a = 1\n",
    "\\end{align}"
   ]
  },
  {
   "cell_type": "markdown",
   "metadata": {
    "slideshow": {
     "slide_type": "fragment"
    }
   },
   "source": [
    "* Therefore, the linear approximation is $P(x) = x + 1$"
   ]
  },
  {
   "cell_type": "markdown",
   "metadata": {
    "slideshow": {
     "slide_type": "fragment"
    }
   },
   "source": [
    "**(b)** Find the quadratic approximation of $f(x) = e^x$ at the point $(0,1)$\n",
    "\n",
    "* If we let $P(x) = ax^2 + bx + c$ then we require three condtions:\n",
    "\n",
    "    * $P(0) = f(0)$, $P'(0) = f'(0)$, and $P''(0) = f''(0)$"
   ]
  },
  {
   "cell_type": "markdown",
   "metadata": {
    "slideshow": {
     "slide_type": "fragment"
    }
   },
   "source": [
    "* Employing $P(0) = f(0)$ leads to\n",
    "\n",
    "\\begin{align}\n",
    "    P(0) & = c \\\\\n",
    "    f(0) & = 1 \\\\\n",
    "    P(0) = f(0) & \\Rightarrow c = 1\n",
    "\\end{align}"
   ]
  },
  {
   "cell_type": "markdown",
   "metadata": {
    "slideshow": {
     "slide_type": "fragment"
    }
   },
   "source": [
    "* Employing $P'(0) = f'(0)$ leads to\n",
    "\n",
    "\\begin{align}\n",
    "    P'(x) = 2ax + b & \\Rightarrow P'(0) = b \\\\\n",
    "    f'(x) = e^x & \\Rightarrow f'(0) = 1 \\\\\n",
    "    P'(0) = f'(0) & \\Rightarrow b = 1\n",
    "\\end{align}"
   ]
  },
  {
   "cell_type": "markdown",
   "metadata": {
    "slideshow": {
     "slide_type": "fragment"
    }
   },
   "source": [
    "* Employing $P''(0) = f''(0))$ leads to\n",
    "\n",
    "\\begin{align}\n",
    "    P''(x) = 2a & \\Rightarrow P''(0) = 2a \\\\\n",
    "    f''(x) = e^x & \\Rightarrow f''(0) = 1 \\\\\n",
    "    P''(0) = f''(0) & \\Rightarrow 2a = 1 \\Rightarrow a = \\frac{1}{2}\n",
    "\\end{align}"
   ]
  },
  {
   "cell_type": "markdown",
   "metadata": {
    "slideshow": {
     "slide_type": "fragment"
    }
   },
   "source": [
    "* Therefore, the quadratic approximation is $P(x) = \\cfrac{1}{2} x^2 + x + 1$"
   ]
  },
  {
   "cell_type": "markdown",
   "metadata": {
    "slideshow": {
     "slide_type": "fragment"
    }
   },
   "source": [
    "**(c)** Find the cubic approximation of $f(x) = e^x$ at the point $(0, 1)$\n",
    "\n",
    "* If we let $P(x) = ax^3 + bx^2 + cx + d$ then we require three condtions:\n",
    "\n",
    "    * $P(0) = f(0)$, $P'(0) = f'(0), P''(0) = f''(0)$, and $P'''(0) = f'''(0)$"
   ]
  },
  {
   "cell_type": "markdown",
   "metadata": {
    "slideshow": {
     "slide_type": "fragment"
    }
   },
   "source": [
    "* Employing $P(0) = f(0)$ leads to\n",
    "\n",
    "\\begin{align}\n",
    "    P(0) & = d \\\\\n",
    "    f(0) & = 1 \\\\\n",
    "    P(0) = f(0) & \\Rightarrow d = 1\n",
    "\\end{align}"
   ]
  },
  {
   "cell_type": "markdown",
   "metadata": {
    "slideshow": {
     "slide_type": "fragment"
    }
   },
   "source": [
    "* Employing $P'(0) = f'(0)$ leads to\n",
    "\n",
    "\\begin{align}\n",
    "    P'(x) = 3ax^2 + 2bx + c & \\Rightarrow P'(0) = c \\\\\n",
    "    f'(x) = e^x & \\Rightarrow f'(0) = 1 \\\\\n",
    "    P'(0) = f'(0) & \\Rightarrow c = 1\n",
    "\\end{align}"
   ]
  },
  {
   "cell_type": "markdown",
   "metadata": {
    "slideshow": {
     "slide_type": "fragment"
    }
   },
   "source": [
    "* Employing $P''(0) = f''(0))$ leads to\n",
    "\n",
    "\\begin{align}\n",
    "    P''(x) = 6ax + 2b & \\Rightarrow P''(0) = 2b \\\\\n",
    "    f''(x) = e^x & \\Rightarrow f''(0) = 1 \\\\\n",
    "    P''(0) = f''(0) & \\Rightarrow 2b = 1 \\Rightarrow b = \\frac{1}{2}\n",
    "\\end{align}"
   ]
  },
  {
   "cell_type": "markdown",
   "metadata": {
    "slideshow": {
     "slide_type": "fragment"
    }
   },
   "source": [
    "* Employing $P'''(0) = f'''(0)$ leads to\n",
    "\n",
    "\\begin{align}\n",
    "    P'''(x) = 6a & \\Rightarrow P''(0) = 6a \\\\\n",
    "    f'''(x) = e^x & \\Rightarrow f'''(0) = 1 \\\\\n",
    "    P'''(0) = f'''(0) & \\Rightarrow 6a = 1 \\Rightarrow a = \\frac{1}{6}\n",
    "\\end{align}"
   ]
  },
  {
   "cell_type": "markdown",
   "metadata": {
    "slideshow": {
     "slide_type": "fragment"
    }
   },
   "source": [
    "* Therefore, the cubic approximation is $P(x) = \\cfrac{1}{6} x^3 + \\cfrac{1}{2} x^2 + x + 1$"
   ]
  },
  {
   "cell_type": "markdown",
   "metadata": {
    "slideshow": {
     "slide_type": "fragment"
    }
   },
   "source": [
    "Let's take a look at these approximations graphically:"
   ]
  },
  {
   "cell_type": "code",
   "execution_count": 2,
   "metadata": {
    "slideshow": {
     "slide_type": "fragment"
    }
   },
   "outputs": [
    {
     "data": {
      "image/png": "[encoded data removed]",
      "text/plain": [
       "<Figure size 1440x720 with 1 Axes>"
      ]
     },
     "metadata": {},
     "output_type": "display_data"
    }
   ],
   "source": [
    "def f(x):\n",
    "    return sym.exp(x)\n",
    "\n",
    "def taylor_poly(x, c, n):\n",
    "    taylor_sum = f(x).evalf(subs = {x: c})\n",
    "    for i in range(n):\n",
    "        taylor_sum += 1 / sym.factorial(i + 1) * (x - c)**(i + 1) * sym.diff(f(x), x, i + 1).evalf(subs = {x: c})\n",
    "    return taylor_sum\n",
    "\n",
    "min_x = -2\n",
    "max_x = 1.25\n",
    "x_range = max_x - min_x\n",
    "\n",
    "x = sym.Symbol('x')\n",
    "t = np.linspace(min_x, max_x, 500)\n",
    "y_func = lambdify(x, f(x))\n",
    "y_taylor = lambdify(x, taylor_poly(x, c=0, n=1))\n",
    "\n",
    "##### begin figure\n",
    "fig, ax = plt.subplots(figsize = (20, 10))\n",
    "\n",
    "min_y = min(y_func(t)) - 1\n",
    "max_y = max(y_func(t)) + 1\n",
    "y_range = max_y - min_y\n",
    "\n",
    "##### form axes\n",
    "ax.arrow(0, min_y, 0, y_range - 0.25, width=0.01, color='k',\n",
    "         clip_on=False, head_width=0.07, head_length=0.15)\n",
    "ax.arrow(min_x, 0, x_range - 0.25, 0, width=0.01, color='k',\n",
    "         clip_on=False, head_width=0.07, head_length=0.15)\n",
    "ax.annotate('$y$', (-0.15, max_y - 0.25), fontsize = 25)\n",
    "ax.annotate('$x$', (max_x - 0.25, -0.35), fontsize = 25)\n",
    "\n",
    "##### plot P(x) and f(x)\n",
    "ax.plot(t, y_func(t), color = 'blue', label = '$f(x)$')\n",
    "k = 3\n",
    "for ii in range(1, k + 1):\n",
    "    y_taylor = lambdify(x, taylor_poly(x, c=0, n=ii))\n",
    "    ax.plot(t, y_taylor(t), \n",
    "            label = '$P_{}(x)$'.format({ii}))\n",
    "\n",
    "##### single polynomial plot\n",
    "y_taylor = lambdify(x, taylor_poly(x, c=0, n=3))\n",
    "ax.plot(t, y_taylor(t), color = 'red',\n",
    "            label = '$P_{}(x)$'.format({ii}))\n",
    "\n",
    "##### set plotting parameters\n",
    "ax.set_ylim(min_y, max_y)\n",
    "ax.legend(fontsize=25)\n",
    "ax.set_aspect('equal')"
   ]
  },
  {
   "cell_type": "markdown",
   "metadata": {
    "slideshow": {
     "slide_type": "slide"
    }
   },
   "source": [
    "##### Objective 2: Find Taylor and Maclaurin polynomial approximations of elementary functions"
   ]
  },
  {
   "cell_type": "markdown",
   "metadata": {
    "slideshow": {
     "slide_type": "fragment"
    }
   },
   "source": [
    "##### General Form of Taylor Polynomial Approximations\n",
    "\n",
    "* For a function $f(x)$ with $n$ derivatives at $x = c$ the $n$th Taylor polynomial centered at $x = c$ is defined as\n",
    "\n",
    "\\begin{align}\n",
    "    P_n(x) & = f(c) + (x - c) \\cdot f'(c) + \\frac{(x - c)^2}{2!} \\cdot f''(c) + \\cdots + \\frac{(x - c)}{n!} \\cdot f^{(n)}(c) \\\\\n",
    "    & \\text{or in summation notation} \\\\\n",
    "    P_n(x) & = \\sum_{k = 0}^n \\frac{(x - c)^k}{k!} \\cdot f^{(k)}(c)\n",
    "\\end{align}\n",
    "\n",
    "* For a function $f(x)$ with $n$ derivatives at $x = 0$ the $n$th Maclaurin polynomial is\n",
    "\n",
    "\\begin{align}\n",
    "    P_n(x) & = f(0) + x \\cdot f'(0) + \\frac{x^2}{2!} \\cdot f''(0) + \\cdots + \\frac{x}{n!} \\cdot f^{(n)}(0) \\\\\n",
    "    & \\text{or in summation notation} \\\\\n",
    "    P_n(x) & = \\sum_{k = 0}^n \\frac{x^k}{k!} \\cdot f^{(k)}(0)\n",
    "\\end{align}"
   ]
  },
  {
   "cell_type": "markdown",
   "metadata": {
    "slideshow": {
     "slide_type": "fragment"
    }
   },
   "source": [
    "##### Example 1\n",
    "\n",
    "Find the Taylor polynomial $P_4(x)$ centered at $c = 1$ for the function $f(x) = \\ln{x}$"
   ]
  },
  {
   "cell_type": "markdown",
   "metadata": {
    "slideshow": {
     "slide_type": "fragment"
    }
   },
   "source": [
    "##### Solution:\n",
    "\n",
    "* We need to apply the formula with $n = 4$ and $c = 1$, but before we do we need to know $f(1), f'(1), f''(1), f'''(1),$ and $f^{(4)}(1)$:\n",
    "\n",
    "\\begin{align}\n",
    "    f(1) & = \\ln{1} = 0 \\\\\n",
    "    f'(x) = \\frac{1}{x} & \\Rightarrow f'(1) = 1 \\\\\n",
    "    f''(x) = \\frac{d}{dx}\\left( x^{-1} \\right) = - \\frac{1}{x^2} & \\Rightarrow f''(1) = -1 \\\\\n",
    "    f'''(x) = \\frac{d}{dx}\\left( -x^{-2} \\right) = \\frac{2}{x^3} & \\Rightarrow f'''(1) = 2 \\\\\n",
    "    f^{(4)}(x) = \\frac{d}{dx}\\left( 2x^{-3} \\right) = - \\frac{6}{x^4} & \\Rightarrow f^{(4)}(1) = -6\n",
    "\\end{align}"
   ]
  },
  {
   "cell_type": "markdown",
   "metadata": {
    "slideshow": {
     "slide_type": "fragment"
    }
   },
   "source": [
    "* Now plug into the summation formula:\n",
    "\n",
    "\\begin{align}\n",
    "    P_4(x) & = \\frac{1}{0!} \\cdot f(1) + \\frac{x - 1}{1!} \\cdot f'(1) + \\frac{(x - 1)^2}{2!} \\cdot f''(1) \\\\\n",
    "    & \\qquad \\qquad + \\frac{(x - 1)^3}{3!} \\cdot f'''(1) + \\frac{(x-1)^4}{4!} \\cdot f^{(4)}(1) \\\\\n",
    "    \\Rightarrow P_4(x) & = 1 \\cdot 0 + (x - 1) \\cdot 1 + \\frac{(x - 1)^2}{2} \\cdot -1 + \\frac{(x - 1)^3}{6} \\cdot 2 + \\frac{(x-1)^4}{24} \\cdot -6 \\\\\n",
    "    \\Rightarrow P_4(x) & = (x - 1) - \\frac{(x - 1)^2}{2} + \\frac{(x - 1)^3}{3} - \\frac{(x-1)^4}{4}\n",
    "\\end{align}"
   ]
  },
  {
   "cell_type": "markdown",
   "metadata": {
    "slideshow": {
     "slide_type": "fragment"
    }
   },
   "source": [
    "* Graphical representation of our polynomial approximation:"
   ]
  },
  {
   "cell_type": "code",
   "execution_count": 3,
   "metadata": {
    "slideshow": {
     "slide_type": "fragment"
    }
   },
   "outputs": [
    {
     "data": {
      "image/png": "[encoded data removed]",
      "text/plain": [
       "<Figure size 1440x720 with 1 Axes>"
      ]
     },
     "metadata": {},
     "output_type": "display_data"
    }
   ],
   "source": [
    "def f(x):\n",
    "    return sym.log(x, 10)\n",
    "\n",
    "min_x = 0.01\n",
    "max_x = 3\n",
    "x_range = max_x - min_x\n",
    "\n",
    "x = sym.Symbol('x')\n",
    "t = np.linspace(min_x, max_x, 500)\n",
    "y_func = lambdify(x, f(x))\n",
    "y_taylor = lambdify(x, taylor_poly(x, c=1, n=1))\n",
    "\n",
    "##### begin figure\n",
    "fig, ax = plt.subplots(figsize = (20, 10))\n",
    "\n",
    "min_y = min(y_func(t)) - 1\n",
    "max_y = max(y_func(t)) + 1\n",
    "y_range = max_y - min_y\n",
    "\n",
    "##### form axes\n",
    "ax.arrow(0, min_y, 0, y_range - 0.25, width=0.01, color='k',\n",
    "         clip_on=False, head_width=0.07, head_length=0.15)\n",
    "ax.arrow(min_x, 0, x_range - 0.25, 0, width=0.01, color='k',\n",
    "         clip_on=False, head_width=0.07, head_length=0.15)\n",
    "ax.annotate('$y$', (-0.15, max_y - 0.25), fontsize = 25)\n",
    "ax.annotate('$x$', (max_x - 0.25, -0.35), fontsize = 25)\n",
    "\n",
    "##### plot P(x) and f(x)\n",
    "ax.plot(t, y_func(t), color = 'blue', label = '$f(x)$')\n",
    "k = 4\n",
    "y_taylor = lambdify(x, taylor_poly(x, c=1, n=k))\n",
    "ax.plot(t, y_taylor(t), color = 'red', \n",
    "        label = '$P_{}(x)$'.format({k}))\n",
    "\n",
    "##### set plotting parameters\n",
    "ax.set_ylim(min_y, max_y)\n",
    "ax.set_xticks(np.arange(max_x + 1))\n",
    "ax.legend(fontsize=25)\n",
    "ax.set_aspect('equal')"
   ]
  },
  {
   "cell_type": "markdown",
   "metadata": {
    "slideshow": {
     "slide_type": "fragment"
    }
   },
   "source": [
    "##### Example 2\n",
    "\n",
    "Find the Maclaurin polynomial $P_6(x)$ for the function $f(x) = \\cos{x}$."
   ]
  },
  {
   "cell_type": "markdown",
   "metadata": {
    "slideshow": {
     "slide_type": "fragment"
    }
   },
   "source": [
    "##### Solution:\n",
    "\n",
    "* Since we are finding the Maclaurin polynomial, by definition, $c = 0$"
   ]
  },
  {
   "cell_type": "markdown",
   "metadata": {
    "slideshow": {
     "slide_type": "fragment"
    }
   },
   "source": [
    "* We find the function and derivative values:\n",
    "\n",
    "\\begin{align}\n",
    "    f(0) & = 1 \\\\\n",
    "    f'(x) = - \\sin{x} & \\Rightarrow f'(0) = 0 \\\\\n",
    "    f''(x) = - \\cos{x} & \\Rightarrow f''(0) = -1 \\\\\n",
    "    f'''(x) = \\sin{x} & \\Rightarrow f'''(0) = 0 \\\\\n",
    "    f^{(4)}(x) = \\cos{x} & \\Rightarrow f^{(4)}(0) = 1 \\\\\n",
    "    f^{(5)}(x) = - \\sin{x} & \\Rightarrow f^{(5)}(0) = 0 \\\\\n",
    "    f^{(6)}(x) = - \\cos{x} & \\Rightarrow f^{(6)}(0) -1\n",
    "\\end{align}"
   ]
  },
  {
   "cell_type": "markdown",
   "metadata": {
    "slideshow": {
     "slide_type": "fragment"
    }
   },
   "source": [
    "* Applying the formula:\n",
    "\n",
    "\\begin{align}\n",
    "    P_6(x) & = f(0) + x \\cdot f'(0) + \\frac{x^2}{2!} \\cdot f''(0) + \\frac{x^3}{3!} \\cdot f'''(0) \\\\\n",
    "    & \\qquad \\qquad + \\frac{x^4}{4!} \\cdot f^{(4)}(0) + \\frac{x^5}{5!} \\cdot f^{(5)}(0) + \\frac{x^6}{6!} \\cdot f^{(6)}(0) \\\\\n",
    "    \\Rightarrow P_6(x) & = 1 + x \\cdot 0 + \\frac{x^2}{2} \\cdot -1 + \\frac{x^3}{6} \\cdot 0 + \\frac{x^4}{24} \\cdot 1 + \\frac{x^5}{120} \\cdot 0 + \\frac{x^6}{720} \\cdot -1 \\\\\n",
    "    \\Rightarrow P_6(x) & = 1 - \\frac{x^2}{2} + \\frac{x^4}{24} - \\frac{x^6}{720}\n",
    "\\end{align}"
   ]
  },
  {
   "cell_type": "code",
   "execution_count": 4,
   "metadata": {
    "slideshow": {
     "slide_type": "fragment"
    }
   },
   "outputs": [
    {
     "data": {
      "image/png": "[encoded data removed]",
      "text/plain": [
       "<Figure size 1440x720 with 1 Axes>"
      ]
     },
     "metadata": {},
     "output_type": "display_data"
    }
   ],
   "source": [
    "def f(x):\n",
    "    return sym.cos(x)\n",
    "\n",
    "min_x = -4\n",
    "max_x = 4\n",
    "x_range = max_x - min_x\n",
    "\n",
    "x = sym.Symbol('x')\n",
    "t = np.linspace(min_x, max_x, 500)\n",
    "y_func = lambdify(x, f(x))\n",
    "y_taylor = lambdify(x, taylor_poly(x, c=0, n=1))\n",
    "\n",
    "##### begin figure\n",
    "fig, ax = plt.subplots(figsize = (20, 10))\n",
    "\n",
    "min_y = min(y_func(t)) - 1\n",
    "max_y = max(y_func(t)) + 1\n",
    "y_range = max_y - min_y\n",
    "\n",
    "##### form axes\n",
    "ax.arrow(0, min_y, 0, y_range - 0.25, width=0.01, color='k',\n",
    "         clip_on=False, head_width=0.07, head_length=0.15)\n",
    "ax.arrow(min_x, 0, x_range - 0.25, 0, width=0.01, color='k',\n",
    "         clip_on=False, head_width=0.07, head_length=0.15)\n",
    "ax.annotate('$y$', (-0.15, max_y - 0.25), fontsize = 25)\n",
    "ax.annotate('$x$', (max_x - 0.25, -0.35), fontsize = 25)\n",
    "\n",
    "##### plot P(x) and f(x)\n",
    "ax.plot(t, y_func(t), color = 'blue', label = '$f(x)$')\n",
    "k = 6\n",
    "y_taylor = lambdify(x, taylor_poly(x, c=0, n=k))\n",
    "ax.plot(t, y_taylor(t), color = 'red', \n",
    "        label = '$P_{}(x)$'.format({k}))\n",
    "\n",
    "##### set plotting parameters\n",
    "ax.set_ylim(min_y, max_y)\n",
    "# ax.set_xticks(np.arange(max_x + 1))\n",
    "ax.legend(fontsize=25)\n",
    "ax.set_aspect('equal')"
   ]
  },
  {
   "cell_type": "markdown",
   "metadata": {
    "slideshow": {
     "slide_type": "slide"
    }
   },
   "source": [
    "##### Objective 3: Use the remainder of a Taylor polynomial"
   ]
  },
  {
   "cell_type": "markdown",
   "metadata": {
    "slideshow": {
     "slide_type": "fragment"
    }
   },
   "source": [
    "##### Taylor's Remainder Theorem\n",
    "\n",
    "* Since we are approximating the function $f(x)$ by a polynomial function $P_n(x)$ we'll always have some error between the exact value of $f(x)$ and the approximate value of $P(x)$\n",
    "\n",
    "* We could represent this fact with the equation\n",
    "\n",
    "\\begin{align}\n",
    "    \\underbrace{f(x)}_{\\text{Exact value}} & = \\underbrace{P_n(x)}_{\\text{Approximate value}} + \\underbrace{R_n(x)}_{\\text{Remainder}}\n",
    "\\end{align}\n",
    "\n",
    "* Solving the above equation for $R_n(x)$:\n",
    "\n",
    "\\begin{align}\n",
    "    R_n(x) & = f(x) - P_n(x)\n",
    "\\end{align}\n",
    "\n",
    "* Taking the absolute value of this quantity is called the **error:**\n",
    "\n",
    "\\begin{align}\n",
    "    \\text{Error} & = |R_n(x)| = |f(x) - P_n(x)|\n",
    "\\end{align}\n",
    "\n",
    "* The next theorem provides a way to determine $R_n(x)$"
   ]
  },
  {
   "cell_type": "markdown",
   "metadata": {
    "slideshow": {
     "slide_type": "fragment"
    }
   },
   "source": [
    "##### Theorem 9.19: Taylor's Theorem\n",
    "\n",
    "If a function $f$ is differentiable through order $n + 1$ in an interval $I$ containing $c$, then, for each $x$ in $I$, there exists $z$ between $x$ and $c$ such that\n",
    "\n",
    "\\begin{align}\n",
    "    f(x) & = f(c) + (x - c) \\cdot f'(c) + \\frac{(x - c)^2}{2!} \\cdot f''(c) + \\cdots + \\frac{(x - c)^n}{n!} \\cdot f^{(n)}(c) + R_n(x)\n",
    "\\end{align}\n",
    "\n",
    "where\n",
    "\n",
    "\\begin{align}\n",
    "    R_n(x) & = \\frac{f^{(n + 1)}(z)}{(n + 1)!} \\cdot (x - c)^{n + 1}\n",
    "\\end{align}"
   ]
  },
  {
   "cell_type": "markdown",
   "metadata": {
    "slideshow": {
     "slide_type": "fragment"
    }
   },
   "source": [
    "##### Example 3\n",
    "\n",
    "Use Taylor's Theorem to approximate $\\sin(0.1)$ by $P_3(0.1)$ using the third Maclaurin polynomial and determine the accuracy of the approximation."
   ]
  },
  {
   "cell_type": "markdown",
   "metadata": {
    "slideshow": {
     "slide_type": "fragment"
    }
   },
   "source": [
    "##### Solution:\n",
    "\n",
    "* We need to use $c = 0$ since we are finding the third *Maclaurin* polynomial\n",
    "\n",
    "    * The phrase \"Maclaurin polynomial\" will *always* translate to $c = 0$\n",
    "    \n",
    "    * The phrase \"Taylor polynomial\" *must* be accompanied with a specified value for $c$\n",
    "    \n",
    "        * <em><b>A Maclaurin polynomial is a Taylor polynomial with $c = 0$</b></em>\n",
    "        \n",
    "        * This means that a Maclaurin polynomial is a *specific type* of Taylor polynomial and has a special name due to it's very common use"
   ]
  },
  {
   "cell_type": "markdown",
   "metadata": {
    "slideshow": {
     "slide_type": "fragment"
    }
   },
   "source": [
    "* Finding $P_3(x)$ with $c = 0$ we find the appropriate function values:\n",
    "\n",
    "\\begin{align}\n",
    "    f(0) & = 0 \\\\\n",
    "    f'(x) = \\cos{x} & \\Rightarrow f'(0) = 1 \\\\\n",
    "    f''(x) = - \\sin{x} & \\Rightarrow f''(0) = 0 \\\\\n",
    "    f'''(x) = - \\cos{x} & \\Rightarrow f'''(0) = -1\n",
    "\\end{align}"
   ]
  },
  {
   "cell_type": "markdown",
   "metadata": {
    "slideshow": {
     "slide_type": "fragment"
    }
   },
   "source": [
    "* Now apply the formula:\n",
    "\n",
    "\\begin{align}\n",
    "    P_3(x) & = f(0) + x \\cdot f'(0) + \\frac{x^2}{2!} \\cdot f''(0) + \\frac{x^3}{3!} \\cdot f'''(0) \\\\\n",
    "    \\Rightarrow P_3(x) & = 0 + x \\cdot 1 + \\frac{x^2}{2} \\cdot 0 + \\frac{x^3}{6} \\cdot -1 \\\\\n",
    "    \\Rightarrow P_3(x) & = x - \\frac{x^3}{6}\n",
    "\\end{align}"
   ]
  },
  {
   "cell_type": "markdown",
   "metadata": {
    "slideshow": {
     "slide_type": "fragment"
    }
   },
   "source": [
    "* Now we approximate $\\sin{(0.1)}$ by calculating $P_3(0.1)$:\n",
    "\n",
    "\\begin{align}\n",
    "    P_3(0.1) & = 0.1 - \\frac{(0.1)^3}{6} \\\\\n",
    "    & \\approx 0.1 - 0.000167 \\\\\n",
    "    & = 0.099833\n",
    "\\end{align}\n",
    "\n",
    "* Therefore, $\\sin{(0.1)} \\approx 0.099833$"
   ]
  },
  {
   "cell_type": "markdown",
   "metadata": {
    "slideshow": {
     "slide_type": "fragment"
    }
   },
   "source": [
    "* Finally, we need to determine the accuracy of this approximation so we need to apply Taylor's Theorem"
   ]
  },
  {
   "cell_type": "markdown",
   "metadata": {
    "slideshow": {
     "slide_type": "fragment"
    }
   },
   "source": [
    "* By Taylor's Theorem, for some $z$ between $c = 0$ and $x = 0.1$, we have\n",
    "\n",
    "\\begin{align}\n",
    "    R_3(0.1) & = f(0.1) - P_3(0.1) = \\frac{f^{(4)}(z)}{4!} \\cdot (0.1)^4 \\\\\n",
    "    \\Rightarrow |R_3(0.1)| & = |f(0.1) - P_3(0.1)| = \\frac{|f^{(4)}(z)|}{24} \\cdot (0.1)^4 \\\\\n",
    "\\end{align}"
   ]
  },
  {
   "cell_type": "markdown",
   "metadata": {
    "slideshow": {
     "slide_type": "fragment"
    }
   },
   "source": [
    "* Since $f^{(4)}(x) = \\sin{x}$ and $-1 \\leq \\sin{x} \\leq 1$, then $|f^{(4)}(x)| = |\\sin{x}| \\leq 1$ (most especially since $0 \\leq z \\leq 0.1$)"
   ]
  },
  {
   "cell_type": "markdown",
   "metadata": {
    "slideshow": {
     "slide_type": "fragment"
    }
   },
   "source": [
    "* Therefore, we can say with certainty that\n",
    "\n",
    "\\begin{align}\n",
    "    |R_3(0.1)| & \\leq \\frac{1}{24} \\cdot (0.1)^4 \\\\\n",
    "    & \\approx 4 \\times 10^{-6} \\\\\n",
    "    & = 0.000004\n",
    "\\end{align}"
   ]
  },
  {
   "cell_type": "markdown",
   "metadata": {
    "slideshow": {
     "slide_type": "fragment"
    }
   },
   "source": [
    "* So we have\n",
    "\n",
    "\\begin{align}\n",
    "    0.099833 - 0.000004 & \\leq \\sin{(0.1)} \\leq 0.099833 + 0.000004 \\\\\n",
    "    0.099829 & \\leq \\sin{(0.1)} \\leq 0.099837\n",
    "\\end{align}"
   ]
  },
  {
   "cell_type": "markdown",
   "metadata": {
    "slideshow": {
     "slide_type": "fragment"
    }
   },
   "source": [
    "* Comparing to the value of $\\sin{(0.1)}$ on a calculator:\n",
    "\n",
    "\\begin{align}\n",
    "    \\sin{(0.1)} & \\approx 0.0998334166\n",
    "\\end{align}"
   ]
  },
  {
   "cell_type": "markdown",
   "metadata": {
    "slideshow": {
     "slide_type": "slide"
    }
   },
   "source": [
    "##### End of Section"
   ]
  }
 ],
 "metadata": {
  "celltoolbar": "Slideshow",
  "kernelspec": {
   "display_name": "Python 3",
   "language": "python",
   "name": "python3"
  },
  "language_info": {
   "codemirror_mode": {
    "name": "ipython",
    "version": 3
   },
   "file_extension": ".py",
   "mimetype": "text/x-python",
   "name": "python",
   "nbconvert_exporter": "python",
   "pygments_lexer": "ipython3",
   "version": "3.7.6"
  },
  "rise": {
   "enable_chalkboard": true,
   "theme": "sky",
   "transition": "zoom",
   "width": "110%"
  }
 },
 "nbformat": 4,
 "nbformat_minor": 4
}
